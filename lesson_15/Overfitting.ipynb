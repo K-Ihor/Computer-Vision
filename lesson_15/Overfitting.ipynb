{
 "cells": [
  {
   "cell_type": "markdown",
   "metadata": {},
   "source": [
    "### Overfitting\n",
    "\n",
    "In this notebook we demonstrate the effects of overfitting and show some techniques to combat it. We will be using a CNN-based binary classifier on the famous [cat vs dogs](https://www.kaggle.com/c/dogs-vs-cats/data) dataset."
   ]
  },
  {
   "cell_type": "code",
   "metadata": {
    "scrolled": true,
    "ExecuteTime": {
     "end_time": "2024-07-18T17:53:15.208791Z",
     "start_time": "2024-07-18T17:53:11.249096Z"
    }
   },
   "source": [
    "import os\n",
    "import cv2\n",
    "import numpy as np\n",
    "import tensorflow as tf\n",
    "from tensorflow.keras.layers import Conv2D, Dense, Dropout, Flatten, Input, MaxPooling2D\n",
    "from tensorflow.keras import Model\n",
    "from time import time\n",
    "from sklearn.model_selection import train_test_split\n",
    "from tqdm import tqdm\n",
    "\n",
    "from matplotlib import pyplot as plt\n",
    "plt.rcParams['figure.figsize'] = [15, 10]\n",
    "\n",
    "# Set the seeds for reproducibility\n",
    "from numpy.random import seed\n",
    "from tensorflow.random import set_seed\n",
    "seed_value = 1234578790\n",
    "seed(seed_value)\n",
    "set_seed(seed_value)"
   ],
   "outputs": [
    {
     "name": "stderr",
     "output_type": "stream",
     "text": [
      "2024-07-18 20:53:11.927337: I tensorflow/core/util/port.cc:113] oneDNN custom operations are on. You may see slightly different numerical results due to floating-point round-off errors from different computation orders. To turn them off, set the environment variable `TF_ENABLE_ONEDNN_OPTS=0`.\n",
      "2024-07-18 20:53:11.938938: I external/local_tsl/tsl/cuda/cudart_stub.cc:32] Could not find cuda drivers on your machine, GPU will not be used.\n",
      "2024-07-18 20:53:12.033606: I external/local_tsl/tsl/cuda/cudart_stub.cc:32] Could not find cuda drivers on your machine, GPU will not be used.\n",
      "2024-07-18 20:53:12.162290: E external/local_xla/xla/stream_executor/cuda/cuda_fft.cc:479] Unable to register cuFFT factory: Attempting to register factory for plugin cuFFT when one has already been registered\n",
      "2024-07-18 20:53:12.291841: E external/local_xla/xla/stream_executor/cuda/cuda_dnn.cc:10575] Unable to register cuDNN factory: Attempting to register factory for plugin cuDNN when one has already been registered\n",
      "2024-07-18 20:53:12.292293: E external/local_xla/xla/stream_executor/cuda/cuda_blas.cc:1442] Unable to register cuBLAS factory: Attempting to register factory for plugin cuBLAS when one has already been registered\n",
      "2024-07-18 20:53:12.457648: I tensorflow/core/platform/cpu_feature_guard.cc:210] This TensorFlow binary is optimized to use available CPU instructions in performance-critical operations.\n",
      "To enable the following instructions: AVX2 AVX512F AVX512_VNNI FMA, in other operations, rebuild TensorFlow with the appropriate compiler flags.\n",
      "2024-07-18 20:53:13.340184: W tensorflow/compiler/tf2tensorrt/utils/py_utils.cc:38] TF-TRT Warning: Could not find TensorRT\n"
     ]
    }
   ],
   "execution_count": 1
  },
  {
   "cell_type": "markdown",
   "metadata": {},
   "source": [
    "#### Dataset\n",
    "\n",
    "Let's very briefly inspect the dataset."
   ]
  },
  {
   "cell_type": "code",
   "metadata": {
    "scrolled": true,
    "ExecuteTime": {
     "end_time": "2024-07-18T17:53:15.446011Z",
     "start_time": "2024-07-18T17:53:15.210591Z"
    }
   },
   "source": [
    "folder = '/media/janko/DATA/Datasets/cats_dogs/train'\n",
    "samples = os.listdir(folder)\n",
    "\n",
    "print('Cats', len([s for s in samples if 'cat' in s]))\n",
    "print('Dogs', len([s for s in samples if 'dog' in s]))\n",
    "\n",
    "img = cv2.cvtColor(cv2.imread(os.path.join(folder, np.random.choice(samples))), cv2.COLOR_BGR2RGB)\n",
    "plt.subplot(131), plt.imshow(img)\n",
    "img = cv2.cvtColor(cv2.imread(os.path.join(folder, np.random.choice(samples))), cv2.COLOR_BGR2RGB)\n",
    "plt.subplot(132), plt.imshow(img)\n",
    "img = cv2.cvtColor(cv2.imread(os.path.join(folder, np.random.choice(samples))), cv2.COLOR_BGR2RGB)\n",
    "plt.subplot(133), plt.imshow(img)"
   ],
   "outputs": [
    {
     "ename": "FileNotFoundError",
     "evalue": "[Errno 2] No such file or directory: '/media/janko/DATA/Datasets/cats_dogs/train'",
     "output_type": "error",
     "traceback": [
      "\u001B[0;31m---------------------------------------------------------------------------\u001B[0m",
      "\u001B[0;31mFileNotFoundError\u001B[0m                         Traceback (most recent call last)",
      "Cell \u001B[0;32mIn[2], line 2\u001B[0m\n\u001B[1;32m      1\u001B[0m folder \u001B[38;5;241m=\u001B[39m \u001B[38;5;124m'\u001B[39m\u001B[38;5;124m/media/janko/DATA/Datasets/cats_dogs/train\u001B[39m\u001B[38;5;124m'\u001B[39m\n\u001B[0;32m----> 2\u001B[0m samples \u001B[38;5;241m=\u001B[39m \u001B[43mos\u001B[49m\u001B[38;5;241;43m.\u001B[39;49m\u001B[43mlistdir\u001B[49m\u001B[43m(\u001B[49m\u001B[43mfolder\u001B[49m\u001B[43m)\u001B[49m\n\u001B[1;32m      4\u001B[0m \u001B[38;5;28mprint\u001B[39m(\u001B[38;5;124m'\u001B[39m\u001B[38;5;124mCats\u001B[39m\u001B[38;5;124m'\u001B[39m, \u001B[38;5;28mlen\u001B[39m([s \u001B[38;5;28;01mfor\u001B[39;00m s \u001B[38;5;129;01min\u001B[39;00m samples \u001B[38;5;28;01mif\u001B[39;00m \u001B[38;5;124m'\u001B[39m\u001B[38;5;124mcat\u001B[39m\u001B[38;5;124m'\u001B[39m \u001B[38;5;129;01min\u001B[39;00m s]))\n\u001B[1;32m      5\u001B[0m \u001B[38;5;28mprint\u001B[39m(\u001B[38;5;124m'\u001B[39m\u001B[38;5;124mDogs\u001B[39m\u001B[38;5;124m'\u001B[39m, \u001B[38;5;28mlen\u001B[39m([s \u001B[38;5;28;01mfor\u001B[39;00m s \u001B[38;5;129;01min\u001B[39;00m samples \u001B[38;5;28;01mif\u001B[39;00m \u001B[38;5;124m'\u001B[39m\u001B[38;5;124mdog\u001B[39m\u001B[38;5;124m'\u001B[39m \u001B[38;5;129;01min\u001B[39;00m s]))\n",
      "\u001B[0;31mFileNotFoundError\u001B[0m: [Errno 2] No such file or directory: '/media/janko/DATA/Datasets/cats_dogs/train'"
     ]
    }
   ],
   "execution_count": 2
  },
  {
   "cell_type": "markdown",
   "metadata": {},
   "source": [
    "Now it is the time to load the data. We will normalize the dimensions to a specific image size."
   ]
  },
  {
   "cell_type": "code",
   "metadata": {
    "scrolled": true
   },
   "source": [
    "size = 64\n",
    "x, y = [], []\n",
    "\n",
    "for sample in tqdm(samples):\n",
    "    img = cv2.cvtColor(cv2.imread(os.path.join(folder, sample)), cv2.COLOR_BGR2RGB)\n",
    "    img = cv2.resize(img, (size, size))\n",
    "    x.append(img)\n",
    "    if 'cat' in sample:\n",
    "        y.append(0)\n",
    "    elif 'dog' in sample:\n",
    "        y.append(1)\n",
    "    else:\n",
    "        raise ValueError()"
   ],
   "outputs": [],
   "execution_count": null
  },
  {
   "cell_type": "markdown",
   "metadata": {},
   "source": [
    "Let's split the data into training and validation subsets and normalize the pixel values."
   ]
  },
  {
   "cell_type": "code",
   "metadata": {
    "scrolled": false
   },
   "source": [
    "x_train, x_test, y_train, y_test = train_test_split(x, y, train_size=0.8, shuffle=True)\n",
    "\n",
    "x_train = np.array(x_train)/255\n",
    "x_test = np.array(x_test)/255\n",
    "\n",
    "y_train = np.array(y_train)\n",
    "y_test = np.array(y_test)\n",
    "\n",
    "print(x_train.shape, len(y_train))"
   ],
   "outputs": [],
   "execution_count": null
  },
  {
   "cell_type": "markdown",
   "metadata": {},
   "source": [
    "### Dog vs Cat Classification\n",
    "\n",
    "We will start by building a simple CNN-based binary classifier."
   ]
  },
  {
   "cell_type": "code",
   "metadata": {
    "scrolled": false
   },
   "source": [
    "inputs = Input(shape=(size, size, 3))\n",
    "\n",
    "net = Conv2D(32, kernel_size=(3, 3), activation=\"relu\", padding='same')(inputs)\n",
    "net = MaxPooling2D(pool_size=(2, 2))(net)\n",
    "net = Conv2D(64, kernel_size=(3, 3), activation=\"relu\", padding='same')(net)\n",
    "net = MaxPooling2D(pool_size=(2, 2))(net)\n",
    "net = Conv2D(128, kernel_size=(3, 3), activation=\"relu\", padding='same')(net)\n",
    "net = MaxPooling2D(pool_size=(2, 2))(net)\n",
    "net = Flatten()(net)\n",
    "net = Dense(128, activation=\"relu\")(net)\n",
    "outputs = Dense(1, activation=\"sigmoid\")(net)\n",
    "\n",
    "model = Model(inputs, outputs)\n",
    "model.summary()"
   ],
   "outputs": [],
   "execution_count": null
  },
  {
   "cell_type": "markdown",
   "metadata": {},
   "source": [
    "And let's start training ;-)"
   ]
  },
  {
   "cell_type": "code",
   "metadata": {
    "scrolled": false
   },
   "source": [
    "epochs = 50\n",
    "batch_size = 64\n",
    "\n",
    "print(x_train.shape)\n",
    "\n",
    "model.compile(loss=\"binary_crossentropy\", optimizer=\"adam\", metrics=[\"accuracy\"])\n",
    "\n",
    "start = time()\n",
    "history = model.fit(x_train, y_train, batch_size=batch_size, epochs=epochs, validation_data=(x_test, y_test))\n",
    "print('Elapsed time', time() - start)"
   ],
   "outputs": [],
   "execution_count": null
  },
  {
   "cell_type": "code",
   "metadata": {
    "scrolled": false
   },
   "source": [
    "def plot_history(history):\n",
    "    h = history.history\n",
    "    epochs = range(len(h['loss']))\n",
    "\n",
    "    plt.subplot(121), plt.plot(epochs, h['loss'], '.-', epochs, h['val_loss'], '.-')\n",
    "    plt.grid(True), plt.xlabel('epochs'), plt.ylabel('loss')\n",
    "    plt.legend(['Train', 'Validation'])\n",
    "    plt.subplot(122), plt.plot(epochs, h['accuracy'], '.-',\n",
    "                               epochs, h['val_accuracy'], '.-')\n",
    "    plt.grid(True), plt.xlabel('epochs'), plt.ylabel('Accuracy')\n",
    "    plt.legend(['Train', 'Validation'])\n",
    "        \n",
    "    print('Train Acc     ', h['accuracy'][-1])\n",
    "    print('Validation Acc', h['val_accuracy'][-1])\n",
    "    \n",
    "plot_history(history)"
   ],
   "outputs": [],
   "execution_count": null
  },
  {
   "cell_type": "markdown",
   "metadata": {},
   "source": [
    "This experiment suffers from a considerable overfitting (the training loss and accuracy are far better than the validation performance). We need to apply some of the techniques seen in the lectures to combat this effect."
   ]
  },
  {
   "cell_type": "markdown",
   "metadata": {},
   "source": [
    "### Regularizations\n",
    "\n",
    "To reduce the negative effect of overfitting, we will insert droput layers after each convolution and before the last fully connected layer. Furthermore, we reduce the size of the dense layer after flatten. Note that reducing the network complexity is also a form of regularization."
   ]
  },
  {
   "cell_type": "code",
   "metadata": {
    "scrolled": true
   },
   "source": [
    "inputs = Input(shape=(size, size, 3))\n",
    "\n",
    "net = Conv2D(32, kernel_size=(3, 3), activation=\"relu\", padding='same')(inputs)\n",
    "net = MaxPooling2D(pool_size=(2, 2))(net)\n",
    "net = Dropout(0.2)(net)\n",
    "net = Conv2D(64, kernel_size=(3, 3), activation=\"relu\", padding='same')(net)\n",
    "net = MaxPooling2D(pool_size=(2, 2))(net)\n",
    "net = Dropout(0.2)(net)\n",
    "net = Conv2D(128, kernel_size=(3, 3), activation=\"relu\", padding='same')(net)\n",
    "net = MaxPooling2D(pool_size=(2, 2))(net)\n",
    "net = Dropout(0.2)(net)\n",
    "net = Flatten()(net)\n",
    "net = Dense(64, activation=\"relu\")(net)\n",
    "net = Dropout(0.5)(net)\n",
    "outputs = Dense(1, activation=\"sigmoid\")(net)\n",
    "\n",
    "model = Model(inputs, outputs)\n",
    "model.summary()"
   ],
   "outputs": [],
   "execution_count": null
  },
  {
   "cell_type": "code",
   "metadata": {
    "scrolled": false
   },
   "source": [
    "epochs = 50\n",
    "batch_size = 64\n",
    "\n",
    "print(x_train.shape)\n",
    "\n",
    "model.compile(loss=\"binary_crossentropy\", optimizer=\"adam\", metrics=[\"accuracy\"])\n",
    "\n",
    "start = time()\n",
    "history = model.fit(x_train, y_train, batch_size=batch_size, epochs=epochs, validation_data=(x_test, y_test))\n",
    "print('Elapsed time', time() - start)"
   ],
   "outputs": [],
   "execution_count": null
  },
  {
   "cell_type": "code",
   "metadata": {
    "scrolled": true
   },
   "source": [
    "plot_history(history)"
   ],
   "outputs": [],
   "execution_count": null
  },
  {
   "cell_type": "markdown",
   "metadata": {},
   "source": [
    "The results look better now but there is still a significat performance gap between training and validation."
   ]
  },
  {
   "cell_type": "markdown",
   "metadata": {},
   "source": [
    "### Data Augmentation\n",
    "\n",
    "As a next step, data augmentation is applied. We build a data generator and, in this simple example, we will add the so called *mirroring* as the only augmentation technique. In general, there is a large variety of augmentation you can experiment with (gamma correction, adding noise, blurring, sharpening, brightness modification, color (un)balancing, etc.).\n",
    "\n",
    "Note that data augmentation is applied only to training data."
   ]
  },
  {
   "cell_type": "code",
   "metadata": {
    "scrolled": true
   },
   "source": [
    "from sklearn.utils import shuffle\n",
    "\n",
    "def datagen(x, y, batch_size):\n",
    "    num_samples = len(y)\n",
    "    while True:\n",
    "        for idx in range(0, num_samples, batch_size):\n",
    "            x_ = x[idx:idx + batch_size, ...]\n",
    "            y_ = y[idx:idx + batch_size]\n",
    "            \n",
    "            if len(y_) < batch_size:\n",
    "                x, y = shuffle(x, y)\n",
    "                break\n",
    "            \n",
    "            # Augmentation\n",
    "            for idx_aug in range(batch_size):\n",
    "                if np.random.rand() > 0.5:\n",
    "                    x_[idx_aug, ...] = np.fliplr(x_[idx_aug, ...])                                \n",
    "                    \n",
    "            yield x_, y_"
   ],
   "outputs": [],
   "execution_count": null
  },
  {
   "cell_type": "code",
   "metadata": {
    "scrolled": true
   },
   "source": [
    "inputs = Input(shape=(size, size, 3))\n",
    "\n",
    "net = Conv2D(32, kernel_size=(3, 3), activation=\"relu\", padding='same')(inputs)\n",
    "net = MaxPooling2D(pool_size=(2, 2))(net)\n",
    "net = Dropout(0.2)(net)\n",
    "net = Conv2D(64, kernel_size=(3, 3), activation=\"relu\", padding='same')(net)\n",
    "net = MaxPooling2D(pool_size=(2, 2))(net)\n",
    "net = Dropout(0.2)(net)\n",
    "net = Conv2D(128, kernel_size=(3, 3), activation=\"relu\", padding='same')(net)\n",
    "net = MaxPooling2D(pool_size=(2, 2))(net)\n",
    "net = Dropout(0.2)(net)\n",
    "net = Flatten()(net)\n",
    "net = Dense(64, activation=\"relu\")(net)\n",
    "net = Dropout(0.5)(net)\n",
    "outputs = Dense(1, activation=\"sigmoid\")(net)\n",
    "\n",
    "model = Model(inputs, outputs)\n",
    "model.summary()"
   ],
   "outputs": [],
   "execution_count": null
  },
  {
   "cell_type": "code",
   "metadata": {
    "scrolled": false
   },
   "source": [
    "epochs = 50\n",
    "batch_size = 64\n",
    "steps_per_epoch = len(y_train) // batch_size\n",
    "generator = datagen(x_train, y_train, batch_size)\n",
    "print(x_train.shape)\n",
    "\n",
    "model.compile(loss=\"binary_crossentropy\", optimizer=\"adam\", metrics=[\"accuracy\"])\n",
    "\n",
    "start = time()\n",
    "history = model.fit(generator, steps_per_epoch=steps_per_epoch, epochs=epochs, validation_data=(x_test, y_test))\n",
    "print('Elapsed time', time() - start)"
   ],
   "outputs": [],
   "execution_count": null
  },
  {
   "cell_type": "code",
   "metadata": {
    "scrolled": false
   },
   "source": [
    "plot_history(history)"
   ],
   "outputs": [],
   "execution_count": null
  },
  {
   "cell_type": "markdown",
   "metadata": {},
   "source": [
    "The results look much better now. Even though the training accuracy is lower than before, the important thing is that validation performance has increased and is above 90% of accuracy now. We can further experiment with different (more complex) architectures and more complex data augmentators."
   ]
  }
 ],
 "metadata": {
  "kernelspec": {
   "display_name": "Python 3 (ipykernel)",
   "language": "python",
   "name": "python3"
  },
  "language_info": {
   "codemirror_mode": {
    "name": "ipython",
    "version": 3
   },
   "file_extension": ".py",
   "mimetype": "text/x-python",
   "name": "python",
   "nbconvert_exporter": "python",
   "pygments_lexer": "ipython3",
   "version": "3.8.10"
  }
 },
 "nbformat": 4,
 "nbformat_minor": 4
}
