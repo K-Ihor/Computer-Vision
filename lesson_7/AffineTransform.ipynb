{
 "cells": [
  {
   "cell_type": "markdown",
   "metadata": {},
   "source": [
    "### Affine Transform\n",
    "\n",
    "In this notebook we are going to illustrate the working principle of affine transformations."
   ]
  },
  {
   "cell_type": "code",
   "metadata": {
    "ExecuteTime": {
     "end_time": "2024-06-13T12:12:03.599446Z",
     "start_time": "2024-06-13T12:12:03.279860Z"
    }
   },
   "source": [
    "import cv2\n",
    "import math\n",
    "import numpy as np\n",
    "from matplotlib import pyplot as plt\n",
    "plt.rcParams['figure.figsize'] = [15, 10]"
   ],
   "outputs": [],
   "execution_count": 1
  },
  {
   "cell_type": "code",
   "metadata": {
    "ExecuteTime": {
     "end_time": "2024-06-13T12:12:03.608933Z",
     "start_time": "2024-06-13T12:12:03.600559Z"
    }
   },
   "source": [
    "img = cv2.imread('data/image2_res.jpg')\n",
    "img = cv2.cvtColor(img, cv2.COLOR_BGR2RGB)\n",
    "rows, cols, _ = img.shape"
   ],
   "outputs": [],
   "execution_count": 2
  },
  {
   "cell_type": "markdown",
   "metadata": {},
   "source": [
    "Let's start with zoom (scaling)."
   ]
  },
  {
   "cell_type": "code",
   "metadata": {
    "ExecuteTime": {
     "end_time": "2024-06-13T12:12:03.726177Z",
     "start_time": "2024-06-13T12:12:03.609662Z"
    }
   },
   "source": [
    "zoom = 1.75\n",
    "map_x = np.zeros((rows, cols), dtype=np.float32)\n",
    "map_y = np.zeros((rows, cols), dtype=np.float32)\n",
    "\n",
    "for r in range(rows):\n",
    "    for c in range(cols):\n",
    "        map_x[r, c] = c*1/zoom\n",
    "        map_y[r, c] = r*1/zoom"
   ],
   "outputs": [],
   "execution_count": 3
  },
  {
   "cell_type": "markdown",
   "metadata": {},
   "source": [
    "The coordinates are no longer integer and, as such, they cannot be displayed nor efficiently stored. Therefore, the image needs to be **resampled** to integer pixel positions."
   ]
  },
  {
   "cell_type": "code",
   "metadata": {
    "ExecuteTime": {
     "end_time": "2024-06-13T12:12:03.730784Z",
     "start_time": "2024-06-13T12:12:03.727379Z"
    }
   },
   "source": [
    "print('Map x')\n",
    "print(map_x[500:505, 500:505])\n",
    "print('')\n",
    "print('Map y')\n",
    "print(map_x[500:505, 500:505])"
   ],
   "outputs": [
    {
     "name": "stdout",
     "output_type": "stream",
     "text": [
      "Map x\n",
      "[[285.7143  286.2857  286.85715 287.42856 288.     ]\n",
      " [285.7143  286.2857  286.85715 287.42856 288.     ]\n",
      " [285.7143  286.2857  286.85715 287.42856 288.     ]\n",
      " [285.7143  286.2857  286.85715 287.42856 288.     ]\n",
      " [285.7143  286.2857  286.85715 287.42856 288.     ]]\n",
      "\n",
      "Map y\n",
      "[[285.7143  286.2857  286.85715 287.42856 288.     ]\n",
      " [285.7143  286.2857  286.85715 287.42856 288.     ]\n",
      " [285.7143  286.2857  286.85715 287.42856 288.     ]\n",
      " [285.7143  286.2857  286.85715 287.42856 288.     ]\n",
      " [285.7143  286.2857  286.85715 287.42856 288.     ]]\n"
     ]
    }
   ],
   "execution_count": 4
  },
  {
   "cell_type": "code",
   "metadata": {
    "ExecuteTime": {
     "end_time": "2024-06-13T12:12:03.837284Z",
     "start_time": "2024-06-13T12:12:03.732389Z"
    }
   },
   "source": [
    "dst = cv2.remap(img, x, y, cv2.INTER_LINEAR)"
   ],
   "outputs": [
    {
     "ename": "NameError",
     "evalue": "name 'x' is not defined",
     "output_type": "error",
     "traceback": [
      "\u001B[0;31m---------------------------------------------------------------------------\u001B[0m",
      "\u001B[0;31mNameError\u001B[0m                                 Traceback (most recent call last)",
      "Cell \u001B[0;32mIn[5], line 1\u001B[0m\n\u001B[0;32m----> 1\u001B[0m dst \u001B[38;5;241m=\u001B[39m cv2\u001B[38;5;241m.\u001B[39mremap(img, \u001B[43mx\u001B[49m, y, cv2\u001B[38;5;241m.\u001B[39mINTER_LINEAR)\n",
      "\u001B[0;31mNameError\u001B[0m: name 'x' is not defined"
     ]
    }
   ],
   "execution_count": 5
  },
  {
   "cell_type": "code",
   "metadata": {
    "scrolled": true,
    "ExecuteTime": {
     "end_time": "2024-06-13T12:12:03.838043Z",
     "start_time": "2024-06-13T12:12:03.837979Z"
    }
   },
   "source": [
    "plt.subplot(121), plt.imshow(img)\n",
    "plt.subplot(122), plt.imshow(dst)"
   ],
   "outputs": [],
   "execution_count": null
  },
  {
   "cell_type": "markdown",
   "metadata": {},
   "source": [
    "Any affine transform can be written in form of matrix multiplication. Given the transform matrix, OpenCV offers a direct way to apply the transform."
   ]
  },
  {
   "cell_type": "code",
   "metadata": {},
   "source": [
    "Z = np.array([[zoom, 0, 0], [0, zoom, 0]])\n",
    "out = cv2.warpAffine(img, Z, (cols, rows))\n",
    "\n",
    "plt.subplot(121), plt.imshow(img)\n",
    "plt.subplot(122), plt.imshow(out)"
   ],
   "outputs": [],
   "execution_count": null
  },
  {
   "cell_type": "code",
   "metadata": {
    "scrolled": false
   },
   "source": [
    "out = cv2.warpAffine(img, Z, (int(zoom*cols), int(zoom*rows)))\n",
    "\n",
    "plt.subplot(121), plt.imshow(img)\n",
    "plt.subplot(122), plt.imshow(out)"
   ],
   "outputs": [],
   "execution_count": null
  },
  {
   "cell_type": "markdown",
   "metadata": {},
   "source": [
    "Image rotation is also an affine transform."
   ]
  },
  {
   "cell_type": "code",
   "metadata": {},
   "source": [
    "theta = np.deg2rad(5)\n",
    "R = np.array([[np.cos(theta), -np.sin(theta), 0], [np.sin(theta), np.cos(theta), 0]])\n",
    "\n",
    "out = cv2.warpAffine(img, R, (cols, rows))\n",
    "\n",
    "plt.subplot(121), plt.imshow(img)\n",
    "plt.subplot(122), plt.imshow(out)"
   ],
   "outputs": [],
   "execution_count": null
  },
  {
   "cell_type": "markdown",
   "metadata": {},
   "source": [
    "To account for the rotation not being center, we can build the rotation matrix with a built-in OpenCV function."
   ]
  },
  {
   "cell_type": "code",
   "metadata": {},
   "source": [
    "center = (cols//2, rows//2)\n",
    "rotate_matrix = cv2.getRotationMatrix2D(center=center, angle=45, scale=1)\n",
    "\n",
    "print(rotate_matrix, rows, cols, rows//2, cols//2)\n",
    "\n",
    "out = cv2.warpAffine(img, rotate_matrix, (cols, rows))\n",
    "\n",
    "plt.subplot(121), plt.imshow(img)\n",
    "plt.subplot(122), plt.imshow(out)"
   ],
   "outputs": [],
   "execution_count": null
  }
 ],
 "metadata": {
  "kernelspec": {
   "display_name": "Python 3 (ipykernel)",
   "language": "python",
   "name": "python3"
  },
  "language_info": {
   "codemirror_mode": {
    "name": "ipython",
    "version": 3
   },
   "file_extension": ".py",
   "mimetype": "text/x-python",
   "name": "python",
   "nbconvert_exporter": "python",
   "pygments_lexer": "ipython3",
   "version": "3.8.10"
  }
 },
 "nbformat": 4,
 "nbformat_minor": 4
}
